{
 "cells": [
  {
   "cell_type": "markdown",
   "metadata": {},
   "source": [
    "# DSC540 Project 3"
   ]
  },
  {
   "cell_type": "markdown",
   "metadata": {},
   "source": [
    "DePaul University  \n",
    "Ilyas Ustun, PhD  \n",
    "Chicago, IL  "
   ]
  },
  {
   "cell_type": "markdown",
   "metadata": {},
   "source": [
    "## Rules\n",
    "- Write your code under the corresponding questions. You are encouraged to use more than one cell.\n",
    "- Provide explanation in a separate Markdown formatted cell. \n",
    "- You can change the cell type by:\n",
    "    - Click on the outer area of the cell type you want to change,\n",
    "    - Go to the top, and select either Code or Markdown from the dropdown menu.\n",
    "- Be concise in your explanations and conclusions.\n",
    "- Write clear code and provide explanation to functions you create by using `#` comment sign.\n",
    "- Try to answer the questions by yourself. Use documentation from pandas, sklearn and similar libraries to solve the problem.\n",
    "- If you are stuck you can use different resources. Do not find an identical project and copy paste the solutions. \n",
    "- Write your name at the beginning of the jupyter notebook.\n",
    "\n",
    "\n",
    "Important:  \n",
    "- **Do NOT share the solutions with other people.**\n",
    "- **Do NOT share the solutions on the internet including but not limited to Github and other platforms.**\n",
    "- Sign the Honor Pledge below indicating that you have agreed to these rules listed here, and any other ethical and honor rules as required by the university.\n",
    "\n",
    "\n",
    "\n",
    "- **Deliverables:**\n",
    "    1. The Python Jupyter notebook file named properly with your name. Example: dsc540_project1_john_doe.ipynb\n",
    "    2. The HTML output of this code notebook names the same way. Example: dsc540_project1_john_doe.html\n",
    "        - File -> Download as -> HTML  \n",
    "        \n",
    "        \n",
    "**DO NOT zip the files.**\n",
    "\n",
    "Good Luck!"
   ]
  },
  {
   "cell_type": "markdown",
   "metadata": {},
   "source": [
    "### SIDHANT THAKUR"
   ]
  },
  {
   "cell_type": "markdown",
   "metadata": {},
   "source": [
    "**Honor Pledge:**  \n",
    "I pledge on my honor that I, **SIDHANT THAKUR**, have followed the rules listed above, that I have not given or received any unauthorized assistance on this assignment. \n"
   ]
  },
  {
   "cell_type": "markdown",
   "metadata": {},
   "source": [
    "\n",
    "## Project Description\n",
    "\n",
    "In this project we will be analyzing CO and NOX gas emissions from a power plant. The variables, their meanings and some statistics are given in the table below."
   ]
  },
  {
   "cell_type": "markdown",
   "metadata": {},
   "source": [
    "![PowerPlantEmissionsFeaturesTable](PowerPlantEmissionsFeaturesTable.PNG)"
   ]
  },
  {
   "cell_type": "markdown",
   "metadata": {},
   "source": [
    "## Import Libraries\n",
    "\n",
    "**Import the usual libraries for pandas and plotting, and sklearn.**"
   ]
  },
  {
   "cell_type": "code",
   "execution_count": 66,
   "metadata": {},
   "outputs": [],
   "source": [
    "import pandas as pd\n",
    "import numpy as np\n",
    "import matplotlib.pyplot as plt\n",
    "import seaborn as sns\n",
    "from sklearn.ensemble import RandomForestClassifier\n",
    "from sklearn import metrics"
   ]
  },
  {
   "cell_type": "code",
   "execution_count": 67,
   "metadata": {},
   "outputs": [
    {
     "data": {
      "text/plain": [
       "'1.0.2'"
      ]
     },
     "execution_count": 67,
     "metadata": {},
     "output_type": "execute_result"
    }
   ],
   "source": [
    "import sklearn\n",
    "sklearn.__version__"
   ]
  },
  {
   "cell_type": "code",
   "execution_count": 68,
   "metadata": {},
   "outputs": [],
   "source": [
    "pd.set_option('display.max_columns', 100)\n",
    "RANDOM_STATE = 0"
   ]
  },
  {
   "cell_type": "markdown",
   "metadata": {},
   "source": [
    "### These are the packages I used"
   ]
  },
  {
   "cell_type": "code",
   "execution_count": 69,
   "metadata": {},
   "outputs": [],
   "source": [
    "import pandas as pd\n",
    "import numpy as np\n",
    "import matplotlib.pyplot as plt\n",
    "import seaborn as sns\n",
    "from sklearn.model_selection import GridSearchCV\n",
    "from sklearn import metrics\n",
    "from sklearn.metrics import r2_score, mean_squared_error"
   ]
  },
  {
   "cell_type": "code",
   "execution_count": null,
   "metadata": {},
   "outputs": [],
   "source": []
  },
  {
   "cell_type": "markdown",
   "metadata": {},
   "source": [
    "> NOTE: For the Kernel RBF SVM hyper parameter tuning use these parameters in the questions:\n",
    "        \n",
    "        'C': [1, 10, 100, 1000]\n",
    "        'gamma': [0.001, 0.01, 0.1, 1]"
   ]
  },
  {
   "cell_type": "markdown",
   "metadata": {},
   "source": [
    "## Q1 [10]\n",
    "- Read in the dataset\n",
    "- How many rows and variables are there?\n"
   ]
  },
  {
   "cell_type": "markdown",
   "metadata": {},
   "source": [
    "#### Get the Data\n",
    "\n",
    "**Use pandas to read in the datasets as a dataframe.**"
   ]
  },
  {
   "cell_type": "code",
   "execution_count": 70,
   "metadata": {},
   "outputs": [
    {
     "data": {
      "text/html": [
       "<div>\n",
       "<style scoped>\n",
       "    .dataframe tbody tr th:only-of-type {\n",
       "        vertical-align: middle;\n",
       "    }\n",
       "\n",
       "    .dataframe tbody tr th {\n",
       "        vertical-align: top;\n",
       "    }\n",
       "\n",
       "    .dataframe thead th {\n",
       "        text-align: right;\n",
       "    }\n",
       "</style>\n",
       "<table border=\"1\" class=\"dataframe\">\n",
       "  <thead>\n",
       "    <tr style=\"text-align: right;\">\n",
       "      <th></th>\n",
       "      <th>AT</th>\n",
       "      <th>AP</th>\n",
       "      <th>AH</th>\n",
       "      <th>AFDP</th>\n",
       "      <th>GTEP</th>\n",
       "      <th>TIT</th>\n",
       "      <th>TAT</th>\n",
       "      <th>TEY</th>\n",
       "      <th>CDP</th>\n",
       "      <th>CO</th>\n",
       "      <th>NOX</th>\n",
       "    </tr>\n",
       "  </thead>\n",
       "  <tbody>\n",
       "    <tr>\n",
       "      <th>0</th>\n",
       "      <td>1.95320</td>\n",
       "      <td>1020.1</td>\n",
       "      <td>84.985</td>\n",
       "      <td>2.5304</td>\n",
       "      <td>20.116</td>\n",
       "      <td>1048.7</td>\n",
       "      <td>544.92</td>\n",
       "      <td>116.27</td>\n",
       "      <td>10.799</td>\n",
       "      <td>7.4491</td>\n",
       "      <td>113.250</td>\n",
       "    </tr>\n",
       "    <tr>\n",
       "      <th>1</th>\n",
       "      <td>1.21910</td>\n",
       "      <td>1020.1</td>\n",
       "      <td>87.523</td>\n",
       "      <td>2.3937</td>\n",
       "      <td>18.584</td>\n",
       "      <td>1045.5</td>\n",
       "      <td>548.50</td>\n",
       "      <td>109.18</td>\n",
       "      <td>10.347</td>\n",
       "      <td>6.4684</td>\n",
       "      <td>112.020</td>\n",
       "    </tr>\n",
       "    <tr>\n",
       "      <th>2</th>\n",
       "      <td>0.94915</td>\n",
       "      <td>1022.2</td>\n",
       "      <td>78.335</td>\n",
       "      <td>2.7789</td>\n",
       "      <td>22.264</td>\n",
       "      <td>1068.8</td>\n",
       "      <td>549.95</td>\n",
       "      <td>125.88</td>\n",
       "      <td>11.256</td>\n",
       "      <td>3.6335</td>\n",
       "      <td>88.147</td>\n",
       "    </tr>\n",
       "    <tr>\n",
       "      <th>3</th>\n",
       "      <td>1.00750</td>\n",
       "      <td>1021.7</td>\n",
       "      <td>76.942</td>\n",
       "      <td>2.8170</td>\n",
       "      <td>23.358</td>\n",
       "      <td>1075.2</td>\n",
       "      <td>549.63</td>\n",
       "      <td>132.21</td>\n",
       "      <td>11.702</td>\n",
       "      <td>3.1972</td>\n",
       "      <td>87.078</td>\n",
       "    </tr>\n",
       "    <tr>\n",
       "      <th>4</th>\n",
       "      <td>1.28580</td>\n",
       "      <td>1021.6</td>\n",
       "      <td>76.732</td>\n",
       "      <td>2.8377</td>\n",
       "      <td>23.483</td>\n",
       "      <td>1076.2</td>\n",
       "      <td>549.68</td>\n",
       "      <td>133.58</td>\n",
       "      <td>11.737</td>\n",
       "      <td>2.3833</td>\n",
       "      <td>82.515</td>\n",
       "    </tr>\n",
       "    <tr>\n",
       "      <th>...</th>\n",
       "      <td>...</td>\n",
       "      <td>...</td>\n",
       "      <td>...</td>\n",
       "      <td>...</td>\n",
       "      <td>...</td>\n",
       "      <td>...</td>\n",
       "      <td>...</td>\n",
       "      <td>...</td>\n",
       "      <td>...</td>\n",
       "      <td>...</td>\n",
       "      <td>...</td>\n",
       "    </tr>\n",
       "    <tr>\n",
       "      <th>7379</th>\n",
       "      <td>3.62680</td>\n",
       "      <td>1028.5</td>\n",
       "      <td>93.200</td>\n",
       "      <td>3.1661</td>\n",
       "      <td>19.087</td>\n",
       "      <td>1037.0</td>\n",
       "      <td>541.59</td>\n",
       "      <td>109.08</td>\n",
       "      <td>10.411</td>\n",
       "      <td>10.9930</td>\n",
       "      <td>89.172</td>\n",
       "    </tr>\n",
       "    <tr>\n",
       "      <th>7380</th>\n",
       "      <td>4.16740</td>\n",
       "      <td>1028.6</td>\n",
       "      <td>94.036</td>\n",
       "      <td>3.1923</td>\n",
       "      <td>19.016</td>\n",
       "      <td>1037.6</td>\n",
       "      <td>542.28</td>\n",
       "      <td>108.79</td>\n",
       "      <td>10.344</td>\n",
       "      <td>11.1440</td>\n",
       "      <td>88.849</td>\n",
       "    </tr>\n",
       "    <tr>\n",
       "      <th>7381</th>\n",
       "      <td>5.48200</td>\n",
       "      <td>1028.5</td>\n",
       "      <td>95.219</td>\n",
       "      <td>3.3128</td>\n",
       "      <td>18.857</td>\n",
       "      <td>1038.0</td>\n",
       "      <td>543.48</td>\n",
       "      <td>107.81</td>\n",
       "      <td>10.462</td>\n",
       "      <td>11.4140</td>\n",
       "      <td>96.147</td>\n",
       "    </tr>\n",
       "    <tr>\n",
       "      <th>7382</th>\n",
       "      <td>5.88370</td>\n",
       "      <td>1028.7</td>\n",
       "      <td>94.200</td>\n",
       "      <td>3.9831</td>\n",
       "      <td>23.563</td>\n",
       "      <td>1076.9</td>\n",
       "      <td>550.11</td>\n",
       "      <td>131.41</td>\n",
       "      <td>11.771</td>\n",
       "      <td>3.3134</td>\n",
       "      <td>64.738</td>\n",
       "    </tr>\n",
       "    <tr>\n",
       "      <th>7383</th>\n",
       "      <td>6.03920</td>\n",
       "      <td>1028.8</td>\n",
       "      <td>94.547</td>\n",
       "      <td>3.8752</td>\n",
       "      <td>22.524</td>\n",
       "      <td>1067.9</td>\n",
       "      <td>548.23</td>\n",
       "      <td>125.41</td>\n",
       "      <td>11.462</td>\n",
       "      <td>11.9810</td>\n",
       "      <td>109.240</td>\n",
       "    </tr>\n",
       "  </tbody>\n",
       "</table>\n",
       "<p>7384 rows × 11 columns</p>\n",
       "</div>"
      ],
      "text/plain": [
       "           AT      AP      AH    AFDP    GTEP     TIT     TAT     TEY     CDP  \\\n",
       "0     1.95320  1020.1  84.985  2.5304  20.116  1048.7  544.92  116.27  10.799   \n",
       "1     1.21910  1020.1  87.523  2.3937  18.584  1045.5  548.50  109.18  10.347   \n",
       "2     0.94915  1022.2  78.335  2.7789  22.264  1068.8  549.95  125.88  11.256   \n",
       "3     1.00750  1021.7  76.942  2.8170  23.358  1075.2  549.63  132.21  11.702   \n",
       "4     1.28580  1021.6  76.732  2.8377  23.483  1076.2  549.68  133.58  11.737   \n",
       "...       ...     ...     ...     ...     ...     ...     ...     ...     ...   \n",
       "7379  3.62680  1028.5  93.200  3.1661  19.087  1037.0  541.59  109.08  10.411   \n",
       "7380  4.16740  1028.6  94.036  3.1923  19.016  1037.6  542.28  108.79  10.344   \n",
       "7381  5.48200  1028.5  95.219  3.3128  18.857  1038.0  543.48  107.81  10.462   \n",
       "7382  5.88370  1028.7  94.200  3.9831  23.563  1076.9  550.11  131.41  11.771   \n",
       "7383  6.03920  1028.8  94.547  3.8752  22.524  1067.9  548.23  125.41  11.462   \n",
       "\n",
       "           CO      NOX  \n",
       "0      7.4491  113.250  \n",
       "1      6.4684  112.020  \n",
       "2      3.6335   88.147  \n",
       "3      3.1972   87.078  \n",
       "4      2.3833   82.515  \n",
       "...       ...      ...  \n",
       "7379  10.9930   89.172  \n",
       "7380  11.1440   88.849  \n",
       "7381  11.4140   96.147  \n",
       "7382   3.3134   64.738  \n",
       "7383  11.9810  109.240  \n",
       "\n",
       "[7384 rows x 11 columns]"
      ]
     },
     "execution_count": 70,
     "metadata": {},
     "output_type": "execute_result"
    }
   ],
   "source": [
    "df = pd.read_csv('gas_emissions.csv')\n",
    "df"
   ]
  },
  {
   "cell_type": "markdown",
   "metadata": {},
   "source": [
    "#### Is there any missing data?"
   ]
  },
  {
   "cell_type": "code",
   "execution_count": 71,
   "metadata": {},
   "outputs": [
    {
     "data": {
      "text/plain": [
       "AT      0\n",
       "AP      0\n",
       "AH      0\n",
       "AFDP    0\n",
       "GTEP    0\n",
       "TIT     0\n",
       "TAT     0\n",
       "TEY     0\n",
       "CDP     0\n",
       "CO      0\n",
       "NOX     0\n",
       "dtype: int64"
      ]
     },
     "execution_count": 71,
     "metadata": {},
     "output_type": "execute_result"
    }
   ],
   "source": [
    "df.isnull().sum()"
   ]
  },
  {
   "cell_type": "markdown",
   "metadata": {},
   "source": [
    "There is no missing value"
   ]
  },
  {
   "cell_type": "markdown",
   "metadata": {},
   "source": [
    "#### What is the average value of AP for those points who have CO levels above 3 $mg/m^3$?"
   ]
  },
  {
   "cell_type": "code",
   "execution_count": 72,
   "metadata": {},
   "outputs": [
    {
     "name": "stdout",
     "output_type": "stream",
     "text": [
      "1015.6900173490633\n"
     ]
    }
   ],
   "source": [
    "high_co_rows = df[df['CO'] > 3]\n",
    "average_ap = high_co_rows['AP'].mean()\n",
    "print(average_ap)"
   ]
  },
  {
   "cell_type": "markdown",
   "metadata": {},
   "source": [
    "#### Create a correlation map between the variables. Which variables have high correlation (> |0.9|)?"
   ]
  },
  {
   "cell_type": "code",
   "execution_count": 73,
   "metadata": {},
   "outputs": [
    {
     "data": {
      "text/plain": [
       "<AxesSubplot:>"
      ]
     },
     "execution_count": 73,
     "metadata": {},
     "output_type": "execute_result"
    },
    {
     "data": {
      "image/png": "[encoded data removed]",
      "text/plain": [
       "<Figure size 640x480 with 2 Axes>"
      ]
     },
     "metadata": {},
     "output_type": "display_data"
    }
   ],
   "source": [
    "corr = df.corr()\n",
    "sns.heatmap(corr, cmap='coolwarm', annot=True)"
   ]
  },
  {
   "cell_type": "markdown",
   "metadata": {},
   "source": [
    "The variable have high correlation are AFDP and AP, TEY and GTEP, CDP and GTEP, TEY and TIT, CDP and TIT, CDP and TEY, "
   ]
  },
  {
   "cell_type": "markdown",
   "metadata": {},
   "source": [
    "#### Create a scatter plot of 'TEY' vs 'CDP'"
   ]
  },
  {
   "cell_type": "code",
   "execution_count": 74,
   "metadata": {},
   "outputs": [
    {
     "data": {
      "text/plain": [
       "<AxesSubplot:xlabel='CDP', ylabel='TEY'>"
      ]
     },
     "execution_count": 74,
     "metadata": {},
     "output_type": "execute_result"
    },
    {
     "data": {
      "image/png": "[encoded data removed]",
      "text/plain": [
       "<Figure size 640x480 with 1 Axes>"
      ]
     },
     "metadata": {},
     "output_type": "display_data"
    }
   ],
   "source": [
    "df.plot(x='CDP', y='TEY', kind='scatter')"
   ]
  },
  {
   "cell_type": "markdown",
   "metadata": {},
   "source": [
    "#### Create histograms for CO and NOX."
   ]
  },
  {
   "cell_type": "code",
   "execution_count": 75,
   "metadata": {},
   "outputs": [
    {
     "data": {
      "text/plain": [
       "<AxesSubplot:ylabel='Frequency'>"
      ]
     },
     "execution_count": 75,
     "metadata": {},
     "output_type": "execute_result"
    },
    {
     "data": {
      "image/png": "[encoded data removed]",
      "text/plain": [
       "<Figure size 640x480 with 1 Axes>"
      ]
     },
     "metadata": {},
     "output_type": "display_data"
    }
   ],
   "source": [
    "df['CO'].plot(kind='hist', bins=30)"
   ]
  },
  {
   "cell_type": "code",
   "execution_count": 76,
   "metadata": {},
   "outputs": [
    {
     "data": {
      "text/plain": [
       "<AxesSubplot:ylabel='Frequency'>"
      ]
     },
     "execution_count": 76,
     "metadata": {},
     "output_type": "execute_result"
    },
    {
     "data": {
      "image/png": "[encoded data removed]",
      "text/plain": [
       "<Figure size 640x480 with 1 Axes>"
      ]
     },
     "metadata": {},
     "output_type": "display_data"
    }
   ],
   "source": [
    "df['NOX'].plot(kind='hist', bins=20)"
   ]
  },
  {
   "cell_type": "markdown",
   "metadata": {},
   "source": [
    "#### Create a sctter plot of CO vs NOX."
   ]
  },
  {
   "cell_type": "code",
   "execution_count": 77,
   "metadata": {},
   "outputs": [
    {
     "data": {
      "text/plain": [
       "<AxesSubplot:xlabel='NOX', ylabel='CO'>"
      ]
     },
     "execution_count": 77,
     "metadata": {},
     "output_type": "execute_result"
    },
    {
     "data": {
      "image/png": "[encoded data removed]",
      "text/plain": [
       "<Figure size 640x480 with 1 Axes>"
      ]
     },
     "metadata": {},
     "output_type": "display_data"
    }
   ],
   "source": [
    "df.plot(x='NOX', y='CO', kind='scatter')"
   ]
  },
  {
   "cell_type": "markdown",
   "metadata": {},
   "source": [
    "### Prepare data for machine learning"
   ]
  },
  {
   "cell_type": "markdown",
   "metadata": {},
   "source": [
    "- We will predict CO using all the other variables.\n",
    "- NOX, which is another emission gas, will not be used as predictor.\n",
    "- CO is a continuous variable, thus we will be doing regression.\n",
    "- Many of algorithms that do classification also have regression counterparts."
   ]
  },
  {
   "cell_type": "code",
   "execution_count": 78,
   "metadata": {},
   "outputs": [],
   "source": [
    "y = df.CO\n",
    "X = df.drop(['CO', 'NOX'], axis=1)"
   ]
  },
  {
   "cell_type": "code",
   "execution_count": 79,
   "metadata": {},
   "outputs": [],
   "source": [
    "from sklearn.model_selection import train_test_split\n",
    "X_train, X_test, y_train, y_test = train_test_split(X, y, test_size=0.10, random_state=RANDOM_STATE)\n",
    "X_train, X_val, y_train, y_val = train_test_split(X_train, y_train, test_size=0.20, random_state=RANDOM_STATE)"
   ]
  },
  {
   "cell_type": "code",
   "execution_count": 80,
   "metadata": {},
   "outputs": [],
   "source": [
    "# Standardization of the data\n",
    "from sklearn.preprocessing import StandardScaler\n",
    "ss = StandardScaler()\n",
    "ss.fit(X_train)\n",
    "X_train = ss.transform(X_train)\n",
    "X_val = ss.transform(X_val)\n",
    "X_test = ss.transform(X_test)"
   ]
  },
  {
   "cell_type": "code",
   "execution_count": 81,
   "metadata": {},
   "outputs": [
    {
     "data": {
      "text/plain": [
       "(5316, 9)"
      ]
     },
     "execution_count": 81,
     "metadata": {},
     "output_type": "execute_result"
    }
   ],
   "source": [
    "X_train.shape"
   ]
  },
  {
   "cell_type": "code",
   "execution_count": 82,
   "metadata": {},
   "outputs": [
    {
     "data": {
      "text/plain": [
       "(1329, 9)"
      ]
     },
     "execution_count": 82,
     "metadata": {},
     "output_type": "execute_result"
    }
   ],
   "source": [
    "X_val.shape"
   ]
  },
  {
   "cell_type": "code",
   "execution_count": 83,
   "metadata": {},
   "outputs": [
    {
     "data": {
      "text/plain": [
       "(739, 9)"
      ]
     },
     "execution_count": 83,
     "metadata": {},
     "output_type": "execute_result"
    }
   ],
   "source": [
    "X_test.shape"
   ]
  },
  {
   "cell_type": "markdown",
   "metadata": {},
   "source": [
    "## Utility Functions"
   ]
  },
  {
   "cell_type": "markdown",
   "metadata": {},
   "source": [
    "You can create helper functions.\n",
    "For example, create functions that take the score and store it in a dataframe for a specific model."
   ]
  },
  {
   "cell_type": "code",
   "execution_count": 116,
   "metadata": {},
   "outputs": [],
   "source": [
    "import pandas as pd\n",
    "\n",
    "scores_df = pd.DataFrame(columns=['Model', 'Score'])\n",
    "\n",
    "def store_score(model_name, score):\n",
    "    global scores_df\n",
    "    scores_df = scores_df.append({'Model': model_name, 'Score': score}, ignore_index=True)\n",
    "    print(f\"Score for {model_name}: {score}\")"
   ]
  },
  {
   "cell_type": "code",
   "execution_count": 118,
   "metadata": {},
   "outputs": [
    {
     "name": "stdout",
     "output_type": "stream",
     "text": [
      "Score for Linear Regression (train): 0.6640090820784397\n",
      "Score for Linear Regression (val): 0.646343190818214\n",
      "Score for Linear Regression (train): 1.2720122104103535\n",
      "Score for Linear Regression (val): 1.3884894690085987\n"
     ]
    },
    {
     "name": "stderr",
     "output_type": "stream",
     "text": [
      "/var/folders/5z/blnwvblx1ksfbt_q5ytvsnmr0000gp/T/ipykernel_18239/1183603400.py:7: FutureWarning: The frame.append method is deprecated and will be removed from pandas in a future version. Use pandas.concat instead.\n",
      "  scores_df = scores_df.append({'Model': model_name, 'Score': score}, ignore_index=True)\n",
      "/var/folders/5z/blnwvblx1ksfbt_q5ytvsnmr0000gp/T/ipykernel_18239/1183603400.py:7: FutureWarning: The frame.append method is deprecated and will be removed from pandas in a future version. Use pandas.concat instead.\n",
      "  scores_df = scores_df.append({'Model': model_name, 'Score': score}, ignore_index=True)\n",
      "/var/folders/5z/blnwvblx1ksfbt_q5ytvsnmr0000gp/T/ipykernel_18239/1183603400.py:7: FutureWarning: The frame.append method is deprecated and will be removed from pandas in a future version. Use pandas.concat instead.\n",
      "  scores_df = scores_df.append({'Model': model_name, 'Score': score}, ignore_index=True)\n",
      "/var/folders/5z/blnwvblx1ksfbt_q5ytvsnmr0000gp/T/ipykernel_18239/1183603400.py:7: FutureWarning: The frame.append method is deprecated and will be removed from pandas in a future version. Use pandas.concat instead.\n",
      "  scores_df = scores_df.append({'Model': model_name, 'Score': score}, ignore_index=True)\n"
     ]
    }
   ],
   "source": [
    "# create a Linear Regression model\n",
    "lr_model = LinearRegression()\n",
    "\n",
    "lr_model.fit(X_train, y_train)\n",
    "\n",
    "y_train_pred = lr_model.predict(X_train)\n",
    "y_val_pred = lr_model.predict(X_val)\n",
    "\n",
    "train_r2 = r2_score(y_train, y_train_pred)\n",
    "val_r2 = r2_score(y_val, y_val_pred)\n",
    "\n",
    "train_rmse = mean_squared_error(y_train, y_train_pred, squared=False)\n",
    "val_rmse = mean_squared_error(y_val, y_val_pred, squared=False)\n",
    "\n",
    "store_score('Linear Regression (train)', train_r2)\n",
    "store_score('Linear Regression (val)', val_r2)\n",
    "store_score('Linear Regression (train)', train_rmse)\n",
    "store_score('Linear Regression (val)', val_rmse)"
   ]
  },
  {
   "cell_type": "markdown",
   "metadata": {},
   "source": [
    "## Q2 [10]"
   ]
  },
  {
   "cell_type": "markdown",
   "metadata": {},
   "source": [
    "- Apply Linear Regression. Predict CO emission using other variables.\n",
    "    - What is the model $R^2$ on training data?\n",
    "    - What is the $R^2$ on validation data?\n",
    "    - What is the Root Mean Squared Error (RMSE) on training data?\n",
    "    - What is the RMSE on validation data?\n",
    "    \n",
    "> - $R^2$ higher is better. ($R^2$ is % variation in data being explained)  \n",
    "> - RMSE lower is better. (RMSE (Root Mean Squared Error) is error, meaning the difference between predictions and actual data)  \n",
    "\n",
    "Hint:  \n",
    "- You can use the `r2_score` and `mean_squared_error` methods in `sklearn.metrics`.   \n",
    "- You need to take the square root of Mean Squared Error to get to RMSE. (MSE $\\rightarrow$ square root $\\rightarrow$ RMSE)"
   ]
  },
  {
   "cell_type": "code",
   "execution_count": 84,
   "metadata": {},
   "outputs": [],
   "source": [
    "from sklearn.linear_model import LinearRegression"
   ]
  },
  {
   "cell_type": "code",
   "execution_count": 85,
   "metadata": {},
   "outputs": [
    {
     "data": {
      "text/plain": [
       "LinearRegression()"
      ]
     },
     "execution_count": 85,
     "metadata": {},
     "output_type": "execute_result"
    }
   ],
   "source": [
    "regressor = LinearRegression()\n",
    "regressor.fit(X_train, y_train)"
   ]
  },
  {
   "cell_type": "code",
   "execution_count": 86,
   "metadata": {},
   "outputs": [],
   "source": [
    " y_train_pred = regressor.predict(X_train)\n",
    "y_val_pred = regressor.predict(X_val)\n",
    "r2_train = r2_score(y_train, y_train_pred)\n",
    "r2_val = r2_score(y_val, y_val_pred)\n",
    "rmse_train = np.sqrt(mean_squared_error(y_train, y_train_pred))\n",
    "rmse_val = np.sqrt(mean_squared_error(y_val, y_val_pred))"
   ]
  },
  {
   "cell_type": "code",
   "execution_count": 87,
   "metadata": {},
   "outputs": [
    {
     "name": "stdout",
     "output_type": "stream",
     "text": [
      "R-squared on training data: 0.6640090820784397\n",
      "R-squared on validation data: 0.646343190818214\n",
      "RMSE on training data: 1.2720122104103535\n",
      "RMSE on validation data: 1.3884894690085987\n"
     ]
    }
   ],
   "source": [
    "print(\"R-squared on training data:\",(r2_train))\n",
    "print(\"R-squared on validation data:\",(r2_val))\n",
    "print(\"RMSE on training data:\",(rmse_train))\n",
    "print(\"RMSE on validation data:\",(rmse_val))\n"
   ]
  },
  {
   "cell_type": "markdown",
   "metadata": {},
   "source": [
    "## Q3 [10]"
   ]
  },
  {
   "cell_type": "markdown",
   "metadata": {},
   "source": [
    "- Apply Random Forest Regression with 100 trees. Predict CO emission using other variables.\n",
    "    - What is the model $R^2$?\n",
    "    - What is the $R^2$ on validation data?\n",
    "    - What is the RMSE on training data?\n",
    "    - What is the RMSE on validation data?\n",
    "\n",
    "- Is training and validation score close? If not what might be the problem?\n",
    "- If there is a large gap, try to decrease the gap by changing some hyperparameters of the Random Forest model. (In this analysis, any difference more than 0.10 $R^2$ difference can be assumed to be large.)\n",
    "    - Once you reach a difference of less than or close to 0.10 between training $R^2$ and validation $R^2$ you can stop. \n",
    "    - During this process your training score will probably decrease, and that is OK. "
   ]
  },
  {
   "cell_type": "code",
   "execution_count": 110,
   "metadata": {},
   "outputs": [],
   "source": [
    "from sklearn.ensemble import RandomForestRegressor"
   ]
  },
  {
   "cell_type": "code",
   "execution_count": 111,
   "metadata": {},
   "outputs": [],
   "source": [
    "estimator = RandomForestRegressor(n_estimators=100, random_state=RANDOM_STATE)"
   ]
  },
  {
   "cell_type": "code",
   "execution_count": 112,
   "metadata": {},
   "outputs": [
    {
     "name": "stdout",
     "output_type": "stream",
     "text": [
      "R2 score on training data: 0.964\n",
      "R2 score on validation data: 0.756\n",
      "RMSE on training data: 0.419\n",
      "RMSE on validation data: 1.154\n"
     ]
    }
   ],
   "source": [
    "estimator.fit(X_train, y_train)\n",
    "\n",
    "# Calculate the R2 score on the training data\n",
    "y_train_pred = estimator.predict(X_train)\n",
    "r2_train = r2_score(y_train, y_train_pred)\n",
    "\n",
    "# Calculate the R2 score on the validation data\n",
    "y_val_pred = estimator.predict(X_val)\n",
    "r2_val = r2_score(y_val, y_val_pred)\n",
    "\n",
    "# Calculate the RMSE on the training data\n",
    "rmse_train = mean_squared_error(y_train, y_train_pred, squared=False)\n",
    "\n",
    "# Calculate the RMSE on the validation data\n",
    "rmse_val = mean_squared_error(y_val, y_val_pred, squared=False)\n",
    "\n",
    "# Print the results\n",
    "print(\"R2 score on training data: {:.3f}\".format(r2_train))\n",
    "print(\"R2 score on validation data: {:.3f}\".format(r2_val))\n",
    "print(\"RMSE on training data: {:.3f}\".format(rmse_train))\n",
    "print(\"RMSE on validation data: {:.3f}\".format(rmse_val))\n"
   ]
  },
  {
   "cell_type": "code",
   "execution_count": 113,
   "metadata": {},
   "outputs": [
    {
     "name": "stdout",
     "output_type": "stream",
     "text": [
      "Difference between training and validation R-squared: 0.208\n"
     ]
    }
   ],
   "source": [
    "r2_diff = abs(r2_train - r2_val)\n",
    "print(\"Difference between training and validation R-squared: {:.3f}\".format(r2_diff))"
   ]
  },
  {
   "cell_type": "markdown",
   "metadata": {},
   "source": [
    "This suggests that the model is performing well on the training data, but there may be some overfitting, as the performance on the validation data is lower than on the training data. It may be necessary to tune the hyperparameters or adjust the model to improve the validation performance."
   ]
  },
  {
   "cell_type": "code",
   "execution_count": 114,
   "metadata": {},
   "outputs": [
    {
     "name": "stdout",
     "output_type": "stream",
     "text": [
      "Best hyperparameters:  {'max_depth': 5, 'min_samples_split': 5, 'n_estimators': 100, 'random_state': 42}\n",
      "R2 score on training data: 0.818\n",
      "R2 score on validation data: 0.746\n",
      "RMSE on training data: 0.936\n",
      "RMSE on validation data: 1.177\n"
     ]
    }
   ],
   "source": [
    "# Define the parameter grid for the Random Forest model\n",
    "param_grid = {\n",
    "    'n_estimators': [50, 100, 200],\n",
    "    'max_depth': [5, 10, 15],\n",
    "    'min_samples_split': [2, 5, 10],\n",
    "    'random_state': [42]\n",
    "}\n",
    "\n",
    "# Create a Random Forest Regression model\n",
    "rf = RandomForestRegressor()\n",
    "\n",
    "# Use GridSearchCV to find the best hyperparameters\n",
    "grid_search = GridSearchCV(rf, param_grid=param_grid)\n",
    "grid_search.fit(X_train, y_train)\n",
    "\n",
    "# Get the best hyperparameters and fit the model on the training data\n",
    "best_params = grid_search.best_params_\n",
    "rf = RandomForestRegressor(**best_params)\n",
    "rf.fit(X_train, y_train)\n",
    "\n",
    "# Calculate the R2 score on the training data\n",
    "y_train_pred = rf.predict(X_train)\n",
    "r2_train = r2_score(y_train, y_train_pred)\n",
    "\n",
    "# Calculate the R2 score on the validation data\n",
    "y_val_pred = rf.predict(X_val)\n",
    "r2_val = r2_score(y_val, y_val_pred)\n",
    "\n",
    "# Calculate the RMSE on the training data\n",
    "rmse_train = mean_squared_error(y_train, y_train_pred, squared=False)\n",
    "\n",
    "# Calculate the RMSE on the validation data\n",
    "rmse_val = mean_squared_error(y_val, y_val_pred, squared=False)\n",
    "\n",
    "# Print the results\n",
    "print(\"Best hyperparameters: \", best_params)\n",
    "print(\"R2 score on training data: {:.3f}\".format(r2_train))\n",
    "print(\"R2 score on validation data: {:.3f}\".format(r2_val))\n",
    "print(\"RMSE on training data: {:.3f}\".format(rmse_train))\n",
    "print(\"RMSE on validation data: {:.3f}\".format(rmse_val))"
   ]
  },
  {
   "cell_type": "code",
   "execution_count": 115,
   "metadata": {},
   "outputs": [
    {
     "name": "stdout",
     "output_type": "stream",
     "text": [
      "Difference between training and validation R-squared: 0.072\n"
     ]
    }
   ],
   "source": [
    "r2_diff = abs(r2_train - r2_val)\n",
    "print(\"Difference between training and validation R-squared: {:.3f}\".format(r2_diff))"
   ]
  },
  {
   "cell_type": "markdown",
   "metadata": {},
   "source": [
    "## Q4 [10]"
   ]
  },
  {
   "cell_type": "markdown",
   "metadata": {},
   "source": [
    "- Apply Support Vector Regression. Predict CO emission using other variables.\n",
    "    - What is the model $R^2$?\n",
    "    - What is the $R^2$ on validation data?\n",
    "    - What is the RMSE on training data?\n",
    "    - What is the RMSE on validation data?\n",
    "    \n",
    "- Do this for each of the models listed below using the default parameters:  \n",
    "    1. **Linear kernel SVR**  \n",
    "    2. **Polynomial kernel SVR**  \n",
    "    3. **RBF kernel SVR** "
   ]
  },
  {
   "cell_type": "code",
   "execution_count": 203,
   "metadata": {},
   "outputs": [],
   "source": [
    "from sklearn.svm import SVR"
   ]
  },
  {
   "cell_type": "markdown",
   "metadata": {},
   "source": [
    "### Linear SVM Regressor"
   ]
  },
  {
   "cell_type": "code",
   "execution_count": 204,
   "metadata": {},
   "outputs": [
    {
     "data": {
      "text/plain": [
       "SVR(kernel='linear')"
      ]
     },
     "execution_count": 204,
     "metadata": {},
     "output_type": "execute_result"
    }
   ],
   "source": [
    "estimator = SVR(kernel='linear')\n",
    "estimator"
   ]
  },
  {
   "cell_type": "code",
   "execution_count": 205,
   "metadata": {},
   "outputs": [
    {
     "data": {
      "text/plain": [
       "SVR(kernel='linear')"
      ]
     },
     "execution_count": 205,
     "metadata": {},
     "output_type": "execute_result"
    }
   ],
   "source": [
    "estimator.fit(X_train, y_train)"
   ]
  },
  {
   "cell_type": "code",
   "execution_count": 206,
   "metadata": {},
   "outputs": [],
   "source": [
    "y_train_pred = estimator.predict(X_train)\n",
    "y_val_pred = estimator.predict(X_val)"
   ]
  },
  {
   "cell_type": "code",
   "execution_count": 207,
   "metadata": {},
   "outputs": [],
   "source": [
    "r2_train = r2_score(y_train, y_train_pred)\n",
    "rmse_train = np.sqrt(mean_squared_error(y_train, y_train_pred))\n",
    "\n",
    "r2_val = r2_score(y_val, y_val_pred)\n",
    "rmse_val = np.sqrt(mean_squared_error(y_val, y_val_pred))"
   ]
  },
  {
   "cell_type": "code",
   "execution_count": 208,
   "metadata": {},
   "outputs": [
    {
     "name": "stdout",
     "output_type": "stream",
     "text": [
      "Linear kernel SVR:\n",
      "R2 on training data: 0.6244412583337272\n",
      "R2 on validation data: 0.6021771925365862\n",
      "RMSE on training data: 1.3448270895923353\n",
      "RMSE on validation data: 1.4726394044713864\n"
     ]
    }
   ],
   "source": [
    "print(\"Linear kernel SVR:\")\n",
    "print(\"R2 on training data:\", r2_train)\n",
    "print(\"R2 on validation data:\", r2_val)\n",
    "print(\"RMSE on training data:\", rmse_train)\n",
    "print(\"RMSE on validation data:\", rmse_val)"
   ]
  },
  {
   "cell_type": "markdown",
   "metadata": {},
   "source": [
    "### Polynomial Kernel SVM Regressor"
   ]
  },
  {
   "cell_type": "code",
   "execution_count": 209,
   "metadata": {},
   "outputs": [],
   "source": [
    "from sklearn.svm import SVR\n",
    "estimator = SVR(kernel='poly')"
   ]
  },
  {
   "cell_type": "code",
   "execution_count": 210,
   "metadata": {},
   "outputs": [
    {
     "data": {
      "text/plain": [
       "SVR(kernel='poly')"
      ]
     },
     "execution_count": 210,
     "metadata": {},
     "output_type": "execute_result"
    }
   ],
   "source": [
    "estimator.fit(X_train, y_train)"
   ]
  },
  {
   "cell_type": "code",
   "execution_count": 211,
   "metadata": {},
   "outputs": [],
   "source": [
    "# Make predictions on training and validation sets using the Polynomial kernel SVR model\n",
    "y_train_pred_poly = estimator.predict(X_train)\n",
    "y_val_pred_poly = estimator.predict(X_val)\n",
    "\n",
    "# Calculate R2 and RMSE on training set\n",
    "r2_train_poly = r2_score(y_train, y_train_pred_poly)\n",
    "rmse_train_poly = np.sqrt(mean_squared_error(y_train, y_train_pred_poly))\n",
    "\n",
    "# Calculate R2 and RMSE on validation set\n",
    "r2_val_poly = r2_score(y_val, y_val_pred_poly)\n",
    "rmse_val_poly = np.sqrt(mean_squared_error(y_val, y_val_pred_poly))\n"
   ]
  },
  {
   "cell_type": "code",
   "execution_count": 212,
   "metadata": {},
   "outputs": [
    {
     "name": "stdout",
     "output_type": "stream",
     "text": [
      "Polynomial kernel SVR:\n",
      "R2 on training data: 0.7404852376508414\n",
      "R2 on validation data: 0.7310487212257811\n",
      "RMSE on training data: 1.1179143857689056\n",
      "RMSE on validation data: 1.210844531836506\n"
     ]
    }
   ],
   "source": [
    "print(\"Polynomial kernel SVR:\")\n",
    "print(\"R2 on training data:\", r2_train_poly)\n",
    "print(\"R2 on validation data:\", r2_val_poly)\n",
    "print(\"RMSE on training data:\", rmse_train_poly)\n",
    "print(\"RMSE on validation data:\", rmse_val_poly)"
   ]
  },
  {
   "cell_type": "markdown",
   "metadata": {},
   "source": [
    "### RBF Kernel SVM Regressor"
   ]
  },
  {
   "cell_type": "code",
   "execution_count": 213,
   "metadata": {},
   "outputs": [
    {
     "data": {
      "text/plain": [
       "SVR()"
      ]
     },
     "execution_count": 213,
     "metadata": {},
     "output_type": "execute_result"
    }
   ],
   "source": [
    "from sklearn.svm import SVR\n",
    "estimator = SVR(kernel='rbf')\n",
    "\n",
    "estimator.fit(X_train, y_train)"
   ]
  },
  {
   "cell_type": "code",
   "execution_count": 214,
   "metadata": {},
   "outputs": [],
   "source": [
    "y_train_pred = estimator.predict(X_train)\n",
    "y_val_pred = estimator.predict(X_val)\n",
    "\n",
    "# Calculate R2 and RMSE on training set\n",
    "r2_train = r2_score(y_train, y_train_pred)\n",
    "rmse_train = np.sqrt(mean_squared_error(y_train, y_train_pred))\n",
    "\n",
    "# Calculate R2 and RMSE on validation set\n",
    "r2_val = r2_score(y_val, y_val_pred)\n",
    "rmse_val = np.sqrt(mean_squared_error(y_val, y_val_pred))"
   ]
  },
  {
   "cell_type": "code",
   "execution_count": 215,
   "metadata": {},
   "outputs": [
    {
     "name": "stdout",
     "output_type": "stream",
     "text": [
      "RBF kernel SVR:\n",
      "R2 on training data: 0.7653225070588423\n",
      "R2 on validation data: 0.7476173201040639\n",
      "RMSE on training data: 1.0630733502205554\n",
      "RMSE on validation data: 1.1729550025939743\n"
     ]
    }
   ],
   "source": [
    "print(\"RBF kernel SVR:\")\n",
    "print(\"R2 on training data:\", r2_train)\n",
    "print(\"R2 on validation data:\", r2_val)\n",
    "print(\"RMSE on training data:\", rmse_train)\n",
    "print(\"RMSE on validation data:\", rmse_val)\n"
   ]
  },
  {
   "cell_type": "markdown",
   "metadata": {},
   "source": [
    "### Q5 [10]"
   ]
  },
  {
   "cell_type": "markdown",
   "metadata": {},
   "source": [
    "- Take RBF Kernel SVM and perform hyperparameter tuning. See if you can increase the $R^2$ score.   \n",
    "    - Use:  \n",
    "          'C': [1, 10, 100, 1000]\n",
    "          'gamma': [0.001, 0.01, 0.1, 1]  \n",
    "\n",
    "    - What is the model $R^2$?\n",
    "    - What is the $R^2$ on validation data?\n",
    "    - What is the RMSE on training data?\n",
    "    - What is the RMSE on validation data?"
   ]
  },
  {
   "cell_type": "code",
   "execution_count": 351,
   "metadata": {},
   "outputs": [
    {
     "name": "stdout",
     "output_type": "stream",
     "text": [
      "Best hyperparameters: {'C': 1000, 'gamma': 0.01}\n",
      "R2 score on training data: 0.785094659580495\n",
      "R2 score on validation data: 0.7568500533368892\n",
      "R2 score on testing data: 0.5764708547341918\n",
      "RMSE on training data: 1.0002485869507802\n",
      "RMSE on validation data: 1.1513004313829553\n",
      "RMSE on testing data: 1.5188236679191662\n"
     ]
    }
   ],
   "source": [
    "from sklearn.model_selection import GridSearchCV\n",
    "from sklearn.svm import SVR\n",
    "\n",
    "# Define the model\n",
    "svr = SVR(kernel='rbf')\n",
    "\n",
    "# Define the hyperparameters to tune\n",
    "param_grid = {'C': [1, 10, 100, 1000], 'gamma': [0.001, 0.01, 0.1, 1]}\n",
    "\n",
    "# Perform GridSearchCV with 5-fold cross validation\n",
    "grid = GridSearchCV(svr, param_grid, cv=5)\n",
    "grid.fit(X_train, y_train)\n",
    "\n",
    "# Print the best hyperparameters and the corresponding R2 score\n",
    "print(\"Best hyperparameters:\", grid.best_params_)\n",
    "print(\"R2 score on training data:\", grid.best_score_)\n",
    "print(\"R2 score on validation data:\", grid.score(X_val, y_val))\n",
    "print(\"R2 score on testing data:\", grid.score(X_test, y_test))\n",
    "\n",
    "# Predict on the training, validation, and testing sets\n",
    "y_train_pred = grid.predict(X_train)\n",
    "y_val_pred = grid.predict(X_val)\n",
    "y_test_pred = grid.predict(X_test)\n",
    "\n",
    "# Calculate the RMSE on the training, validation, and testing sets\n",
    "from sklearn.metrics import mean_squared_error\n",
    "\n",
    "rmse_train = mean_squared_error(y_train, y_train_pred, squared=False)\n",
    "rmse_val = mean_squared_error(y_val, y_val_pred, squared=False)\n",
    "rmse_test = mean_squared_error(y_test, y_test_pred, squared=False)\n",
    "\n",
    "print(\"RMSE on training data:\", rmse_train)\n",
    "print(\"RMSE on validation data:\", rmse_val)\n",
    "print(\"RMSE on testing data:\", rmse_test)"
   ]
  },
  {
   "cell_type": "markdown",
   "metadata": {},
   "source": [
    "Yes, Value of R2 increased"
   ]
  },
  {
   "cell_type": "markdown",
   "metadata": {},
   "source": [
    "## Q6 [10]"
   ]
  },
  {
   "cell_type": "markdown",
   "metadata": {},
   "source": [
    "- Apply PCA and transform the data. \n",
    "    - For PCA we need to decide on the number of  components. Take sufficient number of components based on variance explained \n",
    "        - generally it is chosen as the number of components that can explain 90% of the variance \n",
    "        - or cross-validation accuracy using an ML model.\n",
    "\n",
    "- Use the PCA transformed data to perform regression. Use the models: \n",
    "    - Linear Regression\n",
    "    - Random Forest Regression (Optional to do hyper parameter tuning)\n",
    "    - RBF Kernel Support Vector Regression (Optional to do hyper parameter tuning)\n",
    "  \n",
    "- For each model:  \n",
    "    - What is the model $R^2$?\n",
    "    - What is the $R^2$ on validation data?\n",
    "    - What is the RMSE on training data?\n",
    "    - What is the RMSE on validation data?\n",
    "    \n",
    "- Compare these models with their counterparts obtained before. For example: Compare `PCA RBF SVR` with the `RBF SVR` model from before. Do you observe any change in performance? Please explain. \n"
   ]
  },
  {
   "cell_type": "code",
   "execution_count": 355,
   "metadata": {},
   "outputs": [],
   "source": [
    "from sklearn.decomposition import PCA"
   ]
  },
  {
   "cell_type": "code",
   "execution_count": 356,
   "metadata": {},
   "outputs": [],
   "source": [
    "pca = PCA(n_components=None)\n",
    "\n",
    "pca.fit(X_train)\n",
    "X_train_pca = pca.transform(X_train)\n",
    "X_val_pca = pca.transform(X_val)\n",
    "X_test_pca = pca.transform(X_test)"
   ]
  },
  {
   "cell_type": "code",
   "execution_count": 357,
   "metadata": {},
   "outputs": [
    {
     "name": "stdout",
     "output_type": "stream",
     "text": [
      "[0.58158952 0.78924196 0.88751722 0.94337792 0.98704348 0.9959942\n",
      " 0.99975821 0.99992456 1.        ]\n"
     ]
    },
    {
     "data": {
      "image/png": "[encoded data removed]",
      "text/plain": [
       "<Figure size 640x480 with 1 Axes>"
      ]
     },
     "metadata": {},
     "output_type": "display_data"
    }
   ],
   "source": [
    "print(pca.explained_variance_ratio_.cumsum())\n",
    "plt.plot(pca.explained_variance_ratio_.cumsum(), '-o');\n",
    "plt.xticks(ticks= range(X_train_pca.shape[1]), labels=[i+1 for i in range(X_train_pca.shape[1])])\n",
    "plt.xlabel('Principal Components')\n",
    "plt.ylabel('Variance Explained')\n",
    "plt.show()"
   ]
  },
  {
   "cell_type": "markdown",
   "metadata": {},
   "source": [
    "Choose the number of components."
   ]
  },
  {
   "cell_type": "code",
   "execution_count": 358,
   "metadata": {},
   "outputs": [],
   "source": [
    "X_train_pca2 = X_train_pca[:, 0:5]\n",
    "X_val_pca2 = X_val_pca[:, 0:5]\n",
    "X_test_pca2 = X_test_pca[:, 0:5]"
   ]
  },
  {
   "cell_type": "markdown",
   "metadata": {},
   "source": [
    "**Linear Regression with PCA transformed data**"
   ]
  },
  {
   "cell_type": "code",
   "execution_count": 222,
   "metadata": {},
   "outputs": [
    {
     "name": "stdout",
     "output_type": "stream",
     "text": [
      "Linear Regression with PCA\n",
      "R2 on training data: 0.6557906042002006\n",
      "R2 on validation data: 0.6333206399655547\n",
      "RMSE on training data: 1.2874751982855395\n",
      "RMSE on validation data: 1.4138222446020625\n"
     ]
    }
   ],
   "source": [
    "linreg = LinearRegression()\n",
    "linreg.fit(X_train_pca2, y_train)\n",
    "y_train_pred = linreg.predict(X_train_pca2)\n",
    "y_val_pred = linreg.predict(X_val_pca2)\n",
    "\n",
    "R2_train = linreg.score(X_train_pca2, y_train)\n",
    "R2_val = linreg.score(X_val_pca2, y_val)\n",
    "\n",
    "rmse_train = np.sqrt(mean_squared_error(y_train, y_train_pred))\n",
    "rmse_val = np.sqrt(mean_squared_error(y_val, y_val_pred))\n",
    "\n",
    "print(\"Linear Regression with PCA\")\n",
    "print(\"R2 on training data:\", R2_train)\n",
    "print(\"R2 on validation data:\", R2_val)\n",
    "print(\"RMSE on training data:\", rmse_train)\n",
    "print(\"RMSE on validation data:\", rmse_val)"
   ]
  },
  {
   "cell_type": "markdown",
   "metadata": {},
   "source": [
    "**RF Regression with PCA transformed data**"
   ]
  },
  {
   "cell_type": "code",
   "execution_count": 223,
   "metadata": {},
   "outputs": [],
   "source": [
    "rf = RandomForestRegressor(random_state=42)\n",
    "param_grid = {'n_estimators': [10, 50, 100, 200],\n",
    "'max_depth': [2, 5, 10, None],\n",
    "'min_samples_split': [2, 5, 10]}"
   ]
  },
  {
   "cell_type": "code",
   "execution_count": 224,
   "metadata": {},
   "outputs": [
    {
     "name": "stdout",
     "output_type": "stream",
     "text": [
      "RF Regression with PCA\n",
      "R2 on training data: 0.9662808905467895\n",
      "R2 on validation data: 0.7390904390600782\n",
      "RMSE on training data: 0.40296336004093414\n",
      "RMSE on validation data: 1.1926048606533188\n"
     ]
    }
   ],
   "source": [
    "rf_grid = GridSearchCV(rf, param_grid=param_grid, cv=5, scoring='r2')\n",
    "rf_grid.fit(X_train_pca2, y_train)\n",
    "\n",
    "best_rf = rf_grid.best_estimator_\n",
    "best_rf.fit(X_train_pca2, y_train)\n",
    "\n",
    "y_train_pred = best_rf.predict(X_train_pca2)\n",
    "y_val_pred = best_rf.predict(X_val_pca2)\n",
    "\n",
    "R2_train = best_rf.score(X_train_pca2, y_train)\n",
    "R2_val = best_rf.score(X_val_pca2, y_val)\n",
    "\n",
    "rmse_train = np.sqrt(mean_squared_error(y_train, y_train_pred))\n",
    "rmse_val = np.sqrt(mean_squared_error(y_val, y_val_pred))\n",
    "\n",
    "print(\"RF Regression with PCA\")\n",
    "print(\"R2 on training data:\", R2_train)\n",
    "print(\"R2 on validation data:\", R2_val)\n",
    "print(\"RMSE on training data:\", rmse_train)\n",
    "print(\"RMSE on validation data:\", rmse_val)"
   ]
  },
  {
   "cell_type": "markdown",
   "metadata": {},
   "source": [
    "**SVM Regression with PCA transformed data**"
   ]
  },
  {
   "cell_type": "code",
   "execution_count": 225,
   "metadata": {},
   "outputs": [],
   "source": [
    "rbf_svr = SVR(kernel='rbf')\n",
    "\n",
    "param_grid = {'C': [0.1, 1, 10, 100],\n",
    "'gamma': [0.1, 1, 10, 100]}\n"
   ]
  },
  {
   "cell_type": "code",
   "execution_count": 226,
   "metadata": {},
   "outputs": [
    {
     "data": {
      "text/plain": [
       "GridSearchCV(cv=5, estimator=SVR(),\n",
       "             param_grid={'C': [0.1, 1, 10, 100], 'gamma': [0.1, 1, 10, 100]},\n",
       "             scoring='r2')"
      ]
     },
     "execution_count": 226,
     "metadata": {},
     "output_type": "execute_result"
    }
   ],
   "source": [
    "rbf_svr_grid = GridSearchCV(rbf_svr, param_grid=param_grid, cv=5, scoring='r2')\n",
    "rbf_svr_grid.fit(X_train_pca2, y_train)"
   ]
  },
  {
   "cell_type": "code",
   "execution_count": 227,
   "metadata": {},
   "outputs": [
    {
     "name": "stdout",
     "output_type": "stream",
     "text": [
      "SVM Regression with PCA\n",
      "R2 on training data: 0.788832644198745\n",
      "R2 on validation data: 0.7521975437226629\n",
      "RMSE on training data: 1.0084187265587004\n",
      "RMSE on validation data: 1.1622629170822476\n"
     ]
    }
   ],
   "source": [
    "rbf_svr_grid = rbf_svr_grid.best_estimator_\n",
    "rbf_svr_grid.fit(X_train_pca2, y_train)\n",
    "\n",
    "y_train_pred = rbf_svr_grid.predict(X_train_pca2)\n",
    "y_val_pred = rbf_svr_grid.predict(X_val_pca2)\n",
    "\n",
    "R2_train = rbf_svr_grid.score(X_train_pca2, y_train)\n",
    "R2_val = rbf_svr_grid.score(X_val_pca2, y_val)\n",
    "\n",
    "rmse_train = np.sqrt(mean_squared_error(y_train, y_train_pred))\n",
    "rmse_val = np.sqrt(mean_squared_error(y_val, y_val_pred))\n",
    "\n",
    "print(\"SVM Regression with PCA\")\n",
    "print(\"R2 on training data:\", R2_train)\n",
    "print(\"R2 on validation data:\", R2_val)\n",
    "print(\"RMSE on training data:\", rmse_train)\n",
    "print(\"RMSE on validation data:\", rmse_val)"
   ]
  },
  {
   "cell_type": "markdown",
   "metadata": {},
   "source": [
    "1) Linear Regression\n",
    "\n",
    "R-squared on training data: 0.6640090820784397\n",
    "\n",
    "R-squared on validation data: 0.646343190818214\n",
    "\n",
    "RMSE on training data: 1.2720122104103535\n",
    "\n",
    "RMSE on validation data: 1.3884894690085987\n",
    "    \n",
    "2) PCA with Linear Regression    \n",
    "\n",
    "R2 on training data: 0.6557906042002006\n",
    "\n",
    "R2 on validation data: 0.6333206399655547\n",
    "\n",
    "RMSE on training data: 1.2874751982855395\n",
    "\n",
    "RMSE on validation data: 1.4138222446020625\n",
    "\n",
    "\n",
    "Based on the results, we can observe a slight decrease in the performance of the PCA with Linear Regression model compared to the Linear Regression model. The R-squared and RMSE values are slightly lower in the PCA with Linear Regression model, indicating that the model may not be performing as well as the Linear Regression model. This could be due to the loss of some information during the PCA transformation, which may affect the model's ability to capture the underlying patterns in the data. However, the difference in performance is not significant, so it may be worth exploring further to see if other models could potentially benefit from the PCA transformation."
   ]
  },
  {
   "cell_type": "markdown",
   "metadata": {},
   "source": [
    "1) Random Forest\n",
    "R-squared on training data: 0.6640090820784397\n",
    "\n",
    "\n",
    "R-squared on validation data: 0.646343190818214\n",
    "\n",
    "RMSE on training data: 1.2720122104103535\n",
    "\n",
    "RMSE on validation data: 1.3884894690085987\n",
    "\n",
    "2) RF Regression with PCA\n",
    "\n",
    "R2 on training data: 0.9662808905467895\n",
    "\n",
    "R2 on validation data: 0.7390904390600782\n",
    "\n",
    "RMSE on training data: 0.40296336004093414\n",
    "\n",
    "RMSE on validation data: 1.1926048606533188\n",
    "\n",
    "There is a significant change in the performance of the two models. The Random Forest Regression with PCA model has higher R-squared scores and lower RMSE values on both training and validation data, indicating better performance than the regular Random Forest Regression model. This improvement is mainly due to the reduced dimensionality of the data through PCA, which helps in capturing the most relevant information and reducing noise. As a result, the model is less complex and can better generalize to new data. Overall, the RF Regression with PCA model outperforms the regular RF Regression model in this scenario.\n"
   ]
  },
  {
   "cell_type": "markdown",
   "metadata": {},
   "source": [
    "1) RBF kernel SVR:\n",
    "\n",
    "R2 on training data: 0.7653225070588423\n",
    "\n",
    "R2 on validation data: 0.7476173201040639\n",
    "\n",
    "RMSE on training data: 1.0630733502205554\n",
    "\n",
    "RMSE on validation data: 1.1729550025939743\n",
    "\n",
    "2) SVM Regression with PCA\n",
    "\n",
    "R2 on training data: 0.788832644198745\n",
    "\n",
    "R2 on validation data: 0.7521975437226629\n",
    "\n",
    "RMSE on training data: 1.0084187265587004\n",
    "\n",
    "RMSE on validation data: 1.1622629170822476\n",
    "\n",
    "\n",
    "After comparing the two model results, we can see that the SVM Regression with PCA model has a better performance than the RBF Kernel SVR model.\n",
    "\n",
    "The R2 scores for the SVM Regression with PCA model are higher on both training and validation data, indicating a better fit of the model. The RMSE values for the SVM Regression with PCA model are also lower, indicating that the predicted values are closer to the actual values. "
   ]
  },
  {
   "cell_type": "markdown",
   "metadata": {},
   "source": [
    "## Q7 [10]"
   ]
  },
  {
   "cell_type": "markdown",
   "metadata": {},
   "source": [
    "#### Let's do  classification "
   ]
  },
  {
   "cell_type": "markdown",
   "metadata": {},
   "source": [
    "We will convert CO target values into binary form by comparing them to a threshold. $ 0 - 3  mg/m^3$ is the range of max 8-hour avg. ambient CO in most US cities. So let's take that.  \n",
    "[CO Levels of Concern in Government Recommendations and Regulations](https://www.carbonmonoxidekills.com/are-you-at-risk/carbon-monoxide-levels/)"
   ]
  },
  {
   "cell_type": "code",
   "execution_count": 228,
   "metadata": {},
   "outputs": [],
   "source": [
    "from sklearn.preprocessing import Binarizer"
   ]
  },
  {
   "cell_type": "code",
   "execution_count": 229,
   "metadata": {},
   "outputs": [],
   "source": [
    "binarizer = Binarizer(threshold=3)"
   ]
  },
  {
   "cell_type": "code",
   "execution_count": 230,
   "metadata": {},
   "outputs": [],
   "source": [
    "y_train_cat = binarizer.transform(y_train.values.reshape(-1,1)).ravel()\n",
    "y_val_cat = binarizer.transform(y_val.values.reshape(-1,1)).ravel()\n",
    "y_test_cat = binarizer.transform(y_test.values.reshape(-1,1)).ravel()"
   ]
  },
  {
   "cell_type": "code",
   "execution_count": 231,
   "metadata": {},
   "outputs": [],
   "source": [
    "y_train_cat = pd.Series(y_train_cat)"
   ]
  },
  {
   "cell_type": "code",
   "execution_count": 232,
   "metadata": {},
   "outputs": [
    {
     "data": {
      "text/plain": [
       "<AxesSubplot:>"
      ]
     },
     "execution_count": 232,
     "metadata": {},
     "output_type": "execute_result"
    },
    {
     "data": {
      "image/png": "[encoded data removed]",
      "text/plain": [
       "<Figure size 640x480 with 1 Axes>"
      ]
     },
     "metadata": {},
     "output_type": "display_data"
    }
   ],
   "source": [
    "y_train_cat.value_counts().plot.barh()"
   ]
  },
  {
   "cell_type": "markdown",
   "metadata": {},
   "source": [
    "### Fit RBF Kernel SVM Classifier\n",
    "\n",
    "#### 1. Standardized training data \n",
    "- Using the standardized training data perform grid search:\n",
    "    - Find the best combination of the `C` and `gamma` hyper-parameters.  \n",
    "- For the best model:\n",
    "    - Either using the confusion matrix or the methods in `sklearn.metrics` get the following metrics on the validation set:\n",
    "     - Create confusion matrix\n",
    "     - Recall (Sensitivity)\n",
    "     - Specificity\n",
    "     - Precision\n",
    "     - Balanced Accuracy\n",
    "     - F1 Score\n",
    "     \n",
    "\n",
    "#### 2. PCA transformed training data \n",
    "- Using the **pca** transformed training data `X_train_pca2` perform grid search:\n",
    "    - Find the best combination of the `C` and `gamma` hyper-parameters.  \n",
    "- For the best model:\n",
    "    - Either using the confusion matrix or the methods in `sklearn.metrics` get the following metrics on the validation set `X_val_pca2`:\n",
    "         - Create confusion matrix\n",
    "         - Recall (Sensitivity)\n",
    "         - Specificity\n",
    "         - Precision\n",
    "         - Balanced Accuracy\n",
    "         - F1 Score\n"
   ]
  },
  {
   "cell_type": "code",
   "execution_count": 268,
   "metadata": {},
   "outputs": [],
   "source": [
    "from sklearn.svm import SVC"
   ]
  },
  {
   "cell_type": "markdown",
   "metadata": {},
   "source": [
    "# SVC Model 1 "
   ]
  },
  {
   "cell_type": "code",
   "execution_count": 252,
   "metadata": {},
   "outputs": [],
   "source": [
    "X_train = ss.transform(X_train)\n",
    "X_val = ss.transform(X_val)\n",
    "X_test = ss.transform(X_test)"
   ]
  },
  {
   "cell_type": "code",
   "execution_count": 254,
   "metadata": {},
   "outputs": [
    {
     "data": {
      "text/plain": [
       "GridSearchCV(cv=5, estimator=SVC(),\n",
       "             param_grid={'C': [0.1, 1, 10], 'gamma': [0.1, 1, 10]})"
      ]
     },
     "execution_count": 254,
     "metadata": {},
     "output_type": "execute_result"
    }
   ],
   "source": [
    "param_grid = {'C': [0.1, 1, 10], 'gamma': [0.1, 1, 10]}\n",
    "grid_search = GridSearchCV(SVC(kernel='rbf'), param_grid, cv=5)\n",
    "grid_search.fit(X_train, y_train_cat)"
   ]
  },
  {
   "cell_type": "code",
   "execution_count": 256,
   "metadata": {},
   "outputs": [
    {
     "name": "stdout",
     "output_type": "stream",
     "text": [
      "Best C: 1\n",
      "Best gamma: 1\n"
     ]
    },
    {
     "data": {
      "text/plain": [
       "SVC(C=1, gamma=1)"
      ]
     },
     "execution_count": 256,
     "metadata": {},
     "output_type": "execute_result"
    }
   ],
   "source": [
    "best_svc = grid_search.best_estimator_\n",
    "print('Best C:', best_svc.C)\n",
    "print('Best gamma:', best_svc.gamma)\n",
    "best_svc.fit(X_train, y_train_cat)"
   ]
  },
  {
   "cell_type": "code",
   "execution_count": 259,
   "metadata": {},
   "outputs": [],
   "source": [
    "y_val_pred = best_svc.predict(X_val)"
   ]
  },
  {
   "cell_type": "code",
   "execution_count": 262,
   "metadata": {},
   "outputs": [
    {
     "name": "stdout",
     "output_type": "stream",
     "text": [
      "Confusion matrix:\n",
      "[[762  50]\n",
      " [ 68 449]]\n"
     ]
    }
   ],
   "source": [
    "conf_mat = metrics.confusion_matrix(y_val_cat, y_val_pred)\n",
    "print('Confusion matrix:')\n",
    "print(conf_mat)"
   ]
  },
  {
   "cell_type": "code",
   "execution_count": 263,
   "metadata": {},
   "outputs": [
    {
     "name": "stdout",
     "output_type": "stream",
     "text": [
      "              precision    recall  f1-score   support\n",
      "\n",
      "         0.0       0.92      0.94      0.93       812\n",
      "         1.0       0.90      0.87      0.88       517\n",
      "\n",
      "    accuracy                           0.91      1329\n",
      "   macro avg       0.91      0.90      0.91      1329\n",
      "weighted avg       0.91      0.91      0.91      1329\n",
      "\n"
     ]
    }
   ],
   "source": [
    "print(metrics.classification_report(y_val_cat, y_val_pred))"
   ]
  },
  {
   "cell_type": "code",
   "execution_count": 285,
   "metadata": {},
   "outputs": [
    {
     "name": "stdout",
     "output_type": "stream",
     "text": [
      "recall 0.8646034816247582\n",
      "balanced_accuracy 0.9015135634724776\n",
      "Specificity: 0.9384236453201971\n",
      "False Positive Rate: 0.06157635467980296\n"
     ]
    }
   ],
   "source": [
    "tn, fp, fn, tp = conf_mat.ravel()\n",
    "recall = recall_score(y_val_cat, y_val_pred)\n",
    "print(\"recall\",recall)\n",
    "specificity = tn / (tn + fp)\n",
    "fpr = fp / (fp + tn)\n",
    "balanced_accuracy = (recall + specificity) / 2\n",
    "print(\"balanced_accuracy\",balanced_accuracy)\n",
    "print(\"Specificity:\", specificity)\n",
    "print(\"False Positive Rate:\", fpr)"
   ]
  },
  {
   "cell_type": "markdown",
   "metadata": {},
   "source": [
    "# SVC Model 2"
   ]
  },
  {
   "cell_type": "code",
   "execution_count": 270,
   "metadata": {},
   "outputs": [
    {
     "data": {
      "text/plain": [
       "GridSearchCV(cv=5, estimator=SVC(),\n",
       "             param_grid={'C': [0.1, 1, 10], 'gamma': [0.1, 1, 10]})"
      ]
     },
     "execution_count": 270,
     "metadata": {},
     "output_type": "execute_result"
    }
   ],
   "source": [
    "param_grid = {'C': [0.1, 1, 10], \n",
    "              'gamma': [0.1, 1, 10]}\n",
    "\n",
    "grid_search = GridSearchCV(estimator, param_grid, cv=5)\n",
    "grid_search.fit(X_train_pca2, y_train_cat)"
   ]
  },
  {
   "cell_type": "code",
   "execution_count": 272,
   "metadata": {},
   "outputs": [],
   "source": [
    "best_params = grid_search.best_params_\n",
    "best_score = grid_search.best_score_\n"
   ]
  },
  {
   "cell_type": "code",
   "execution_count": 277,
   "metadata": {},
   "outputs": [],
   "source": [
    "best_estimator = SVC(kernel='rbf', C=best_params['C'], gamma=best_params['gamma'])\n",
    "best_estimator.fit(X_train_pca2, y_train_cat)\n",
    "\n",
    "y_val_pred = best_estimator.predict(X_val_pca2)\n",
    "\n"
   ]
  },
  {
   "cell_type": "code",
   "execution_count": 278,
   "metadata": {},
   "outputs": [
    {
     "name": "stdout",
     "output_type": "stream",
     "text": [
      "[[764  48]\n",
      " [ 70 447]]\n"
     ]
    }
   ],
   "source": [
    "from sklearn.metrics import confusion_matrix, recall_score, precision_score, f1_score\n",
    "\n",
    "confusion = confusion_matrix(y_val_cat, y_val_pred)\n",
    "print(confusion)\n"
   ]
  },
  {
   "cell_type": "code",
   "execution_count": 280,
   "metadata": {},
   "outputs": [
    {
     "name": "stdout",
     "output_type": "stream",
     "text": [
      "              precision    recall  f1-score   support\n",
      "\n",
      "         0.0       0.92      0.94      0.93       812\n",
      "         1.0       0.90      0.86      0.88       517\n",
      "\n",
      "    accuracy                           0.91      1329\n",
      "   macro avg       0.91      0.90      0.91      1329\n",
      "weighted avg       0.91      0.91      0.91      1329\n",
      "\n"
     ]
    }
   ],
   "source": [
    "print(metrics.classification_report(y_val_cat, y_val_pred))"
   ]
  },
  {
   "cell_type": "code",
   "execution_count": 286,
   "metadata": {},
   "outputs": [
    {
     "name": "stdout",
     "output_type": "stream",
     "text": [
      "recall 0.8646034816247582\n",
      "specificity 0.9408866995073891\n",
      "False Positive Rate: 0.059113300492610835\n",
      "balanced_accuracy 0.9027450905660737\n"
     ]
    }
   ],
   "source": [
    "recall = recall_score(y_val_cat, y_val_pred)\n",
    "print(\"recall\",recall)\n",
    "precision = precision_score(y_val_cat, y_val_pred)\n",
    "f1 = f1_score(y_val_cat, y_val_pred)\n",
    "\n",
    "tn, fp, fn, tp = confusion.ravel()\n",
    "specificity = tn / (tn + fp)\n",
    "print(\"specificity\",specificity)\n",
    "fpr = fp / (fp + tn)\n",
    "print(\"False Positive Rate:\", fpr)\n",
    "balanced_accuracy = (recall + specificity) / 2\n",
    "print(\"balanced_accuracy\",balanced_accuracy)"
   ]
  },
  {
   "cell_type": "markdown",
   "metadata": {},
   "source": [
    "# Q8 [10]\n"
   ]
  },
  {
   "cell_type": "markdown",
   "metadata": {},
   "source": [
    "- For regression:\n",
    "    - Think of other ways of improving the regression performance and list at least two possibilities.\n",
    "    - You can use any of the datasets we have been using (standardized data, PCA transformed data), or re-create your own set from the original.\n",
    "    - Implement both of the methods you proposed. \n",
    "    - Is the validation performance increasing? For performance comparison you can use any regression performance metric that you deem to be appropriate. \n",
    "    - Optional: Apply different methods, ideas as you see fit and see if the validation performance is improving."
   ]
  },
  {
   "cell_type": "markdown",
   "metadata": {},
   "source": [
    "# Feature selection and Ensemle method using Ridge Regression "
   ]
  },
  {
   "cell_type": "code",
   "execution_count": 124,
   "metadata": {},
   "outputs": [],
   "source": [
    "from sklearn.pipeline import Pipeline\n",
    "from sklearn.feature_selection import RFE"
   ]
  },
  {
   "cell_type": "code",
   "execution_count": 125,
   "metadata": {},
   "outputs": [],
   "source": [
    "# split the data into training, validation, and testing sets\n",
    "X_train, X_test, y_train, y_test = train_test_split(X, y, test_size=0.10, random_state=RANDOM_STATE)\n",
    "X_train, X_val, y_train, y_val = train_test_split(X_train, y_train, test_size=0.20, random_state=RANDOM_STATE)"
   ]
  },
  {
   "cell_type": "code",
   "execution_count": 126,
   "metadata": {},
   "outputs": [
    {
     "name": "stdout",
     "output_type": "stream",
     "text": [
      "R2 score for validation set with RFE feature selection: 0.6281270406953349\n",
      "RMSE for validation set with RFE feature selection: 1.4237996373671462\n"
     ]
    }
   ],
   "source": [
    "\n",
    "pipeline1 = Pipeline([\n",
    "    ('scaler', StandardScaler()),\n",
    "    ('feature_selection', RFE(Ridge(alpha=0.1))),\n",
    "    ('regression', Ridge(alpha=0.1))\n",
    "])\n",
    "\n",
    "pipeline1.fit(X_train, y_train)\n",
    "y_val_pred = pipeline1.predict(X_val)\n",
    "r2_val1 = r2_score(y_val, y_val_pred)\n",
    "rmse_val1 = np.sqrt(mean_squared_error(y_val, y_val_pred))\n",
    "\n",
    "print(\"R2 score for validation set with RFE feature selection:\", r2_val1)\n",
    "print(\"RMSE for validation set with RFE feature selection:\", rmse_val1)\n"
   ]
  },
  {
   "cell_type": "code",
   "execution_count": 127,
   "metadata": {},
   "outputs": [
    {
     "name": "stdout",
     "output_type": "stream",
     "text": [
      "R2 score for validation set with Random Forest regression: 0.7482656410488867\n",
      "RMSE for validation set with Random Forest regression: 1.171447489704912\n"
     ]
    }
   ],
   "source": [
    "# create a pipeline for PCA-transformed data with Random Forest regression\n",
    "pipeline2 = Pipeline([\n",
    "    ('pca', PCA(n_components=5)),\n",
    "    ('regression', RandomForestRegressor())\n",
    "])\n",
    "\n",
    "# use GridSearchCV to tune hyperparameters of the Random Forest regression\n",
    "param_grid = {\n",
    "    'regression__n_estimators': [50, 100, 200],\n",
    "    'regression__max_depth': [2, 5, 10, None],\n",
    "    'regression__min_samples_split': [2, 5, 10]\n",
    "}\n",
    "grid_search = GridSearchCV(pipeline2, param_grid=param_grid, cv=5,)\n",
    "grid_search.fit(X_train, y_train)\n",
    "\n",
    "# train and evaluate the best pipeline on the validation set\n",
    "best_pipeline = grid_search.best_estimator_\n",
    "y_val_pred = best_pipeline.predict(X_val)\n",
    "r2_val2 = r2_score(y_val, y_val_pred)\n",
    "rmse_val2 = np.sqrt(mean_squared_error(y_val, y_val_pred))\n",
    "\n",
    "print(\"R2 score for validation set with Random Forest regression:\", r2_val2)\n",
    "print(\"RMSE for validation set with Random Forest regression:\", rmse_val2)"
   ]
  },
  {
   "cell_type": "markdown",
   "metadata": {},
   "source": [
    "Yes, the validation performance increases.\n",
    "Based on the R-squared and RMSE values, it seems that Random Forest Regression performs the best on the validation set. It has the highest R-squared value and the lowest RMSE value, indicating that it is able to explain the most variance in the target variable and has the smallest prediction errors."
   ]
  },
  {
   "cell_type": "markdown",
   "metadata": {},
   "source": [
    "## Q9 [10]"
   ]
  },
  {
   "cell_type": "markdown",
   "metadata": {},
   "source": [
    "- For classification:\n",
    "    - Try at least one classifier other than SVM (RF, GBM, Logistic Regression, etc). \n",
    "    - Think of other ways of improving the regression performance and list at least two possibilities.\n",
    "    - You can use any of the datasets we have been using (standardized data, PCA transformed data), or re-create your own set from the original.\n",
    "    - Implement both of the methods you proposed. \n",
    "    - Is the validation performance increasing? For performance comparison you can use any regression performance metric that you deem to be appropriate. \n",
    "    - Optional: Apply different methods, ideas as you see fit and see if the validation performance is improving."
   ]
  },
  {
   "cell_type": "markdown",
   "metadata": {},
   "source": [
    "## Using Random forest Classifier"
   ]
  },
  {
   "cell_type": "code",
   "execution_count": 363,
   "metadata": {},
   "outputs": [
    {
     "name": "stdout",
     "output_type": "stream",
     "text": [
      "recall 0.8529980657640233\n",
      "precision 0.9074074074074074\n",
      "f1 0.8793619142572283\n",
      "specificity 0.9347290640394089\n",
      "balanced_accuracy 0.8938635649017161\n"
     ]
    }
   ],
   "source": [
    "from sklearn.ensemble import RandomForestClassifier\n",
    "\n",
    "rf = RandomForestClassifier(n_estimators=100, max_depth=5)\n",
    "rf.fit(X_train_pca2, y_train_cat)\n",
    "\n",
    "y_val_pred = rf.predict(X_val_pca2)\n",
    "\n",
    "\n",
    "recall = recall_score(y_val_cat, y_val_pred)\n",
    "print('recall',recall)\n",
    "precision = precision_score(y_val_cat, y_val_pred)\n",
    "print('precision',precision)\n",
    "f1 = f1_score(y_val_cat, y_val_pred)\n",
    "print('f1',f1)\n",
    "tn, fp, fn, tp = confusion.ravel()\n",
    "specificity = tn / (tn + fp)\n",
    "print('specificity',specificity)\n",
    "balanced_accuracy = (recall + specificity) / 2\n",
    "print('balanced_accuracy',balanced_accuracy)"
   ]
  },
  {
   "cell_type": "code",
   "execution_count": 295,
   "metadata": {},
   "outputs": [
    {
     "name": "stdout",
     "output_type": "stream",
     "text": [
      "[[763  49]\n",
      " [ 72 445]]\n"
     ]
    }
   ],
   "source": [
    "confusion = confusion_matrix(y_val_cat, y_val_pred)\n",
    "print(confusion)"
   ]
  },
  {
   "cell_type": "code",
   "execution_count": 294,
   "metadata": {},
   "outputs": [
    {
     "name": "stdout",
     "output_type": "stream",
     "text": [
      "              precision    recall  f1-score   support\n",
      "\n",
      "         0.0       0.91      0.94      0.93       812\n",
      "         1.0       0.90      0.86      0.88       517\n",
      "\n",
      "    accuracy                           0.91      1329\n",
      "   macro avg       0.91      0.90      0.90      1329\n",
      "weighted avg       0.91      0.91      0.91      1329\n",
      "\n"
     ]
    }
   ],
   "source": [
    "print(metrics.classification_report(y_val_cat, y_val_pred))"
   ]
  },
  {
   "cell_type": "markdown",
   "metadata": {},
   "source": [
    "## Using feature selection"
   ]
  },
  {
   "cell_type": "code",
   "execution_count": 371,
   "metadata": {},
   "outputs": [
    {
     "name": "stdout",
     "output_type": "stream",
     "text": [
      "recall 0.8820116054158608\n",
      "precision 0.8958742632612967\n",
      "f1 0.888888888888889\n",
      "specificity 0.9347290640394089\n",
      "balanced_accuracy 0.9083703347276348\n"
     ]
    }
   ],
   "source": [
    "from sklearn.feature_selection import SelectKBest, mutual_info_classif\n",
    "\n",
    "selector = SelectKBest(mutual_info_classif, k=5)\n",
    "X_train_selected = selector.fit_transform(X_train_pca2, y_train_cat)\n",
    "X_val_selected = selector.transform(X_val_pca2)\n",
    "\n",
    "svm = SVC(kernel='rbf', C=1, gamma=0.1)\n",
    "svm.fit(X_train_selected, y_train_cat)\n",
    "\n",
    "y_val_pred = svm.predict(X_val_selected)\n",
    "\n",
    "\n",
    "recall = recall_score(y_val_cat, y_val_pred)\n",
    "print('recall',recall)\n",
    "precision = precision_score(y_val_cat, y_val_pred)\n",
    "print('precision',precision)\n",
    "f1 = f1_score(y_val_cat, y_val_pred)\n",
    "print('f1',f1)\n",
    "tn, fp, fn, tp = confusion.ravel()\n",
    "specificity = tn / (tn + fp)\n",
    "print('specificity',specificity)\n",
    "\n",
    "balanced_accuracy = (recall + specificity) / 2\n",
    "print('balanced_accuracy',balanced_accuracy)\n"
   ]
  },
  {
   "cell_type": "code",
   "execution_count": 372,
   "metadata": {},
   "outputs": [
    {
     "name": "stdout",
     "output_type": "stream",
     "text": [
      "[[759  53]\n",
      " [ 61 456]]\n"
     ]
    }
   ],
   "source": [
    "confusion = confusion_matrix(y_val_cat, y_val_pred)\n",
    "print(confusion)"
   ]
  },
  {
   "cell_type": "code",
   "execution_count": 373,
   "metadata": {},
   "outputs": [
    {
     "name": "stdout",
     "output_type": "stream",
     "text": [
      "              precision    recall  f1-score   support\n",
      "\n",
      "         0.0       0.93      0.93      0.93       812\n",
      "         1.0       0.90      0.88      0.89       517\n",
      "\n",
      "    accuracy                           0.91      1329\n",
      "   macro avg       0.91      0.91      0.91      1329\n",
      "weighted avg       0.91      0.91      0.91      1329\n",
      "\n"
     ]
    }
   ],
   "source": [
    "print(metrics.classification_report(y_val_cat, y_val_pred))"
   ]
  },
  {
   "cell_type": "code",
   "execution_count": null,
   "metadata": {},
   "outputs": [],
   "source": []
  },
  {
   "cell_type": "markdown",
   "metadata": {},
   "source": [
    "## Q10 [10]"
   ]
  },
  {
   "cell_type": "markdown",
   "metadata": {},
   "source": [
    "- Choose the best 2 regressors among the trained regressions models:\n",
    "- Create a table summarizing results on the **test** set for regression (with target variables in `y_test`):\n",
    "    - Show the R^2 and RMSE performance metrics on test data for each model.\n",
    "- Which model is best for regression? Is this in line with your analysis (the validation performance of the models) or is this not expected?\n",
    "\n",
    "\n",
    "\n",
    "- Choose the best 2 classifiers among the trained classification models:\n",
    "- Create a table summarizing results on the **test** set for classification (with target variables in `y_test_cat`):\n",
    "    - Show the classification performance metrics (accuracy, recall, precision, f1-score, etc.) on test data for each model. \n",
    "- Which model is best for classification? Is this in line with your analysis (the validation performance of the models) or is this not expected? \n",
    "\n",
    "\n",
    "\n",
    "> Note that the same transformation used during training should be applied on the testing set. (If you applied PCA on training data for the selected model, you need to apply PCA on the testing set as well.) \n",
    "\n"
   ]
  },
  {
   "cell_type": "markdown",
   "metadata": {},
   "source": [
    "## Based on the R-squared and RMSE values on the validation set, the best two regressors are: \n",
    "\n",
    "### Random Forest Regressor with 100 tree \n",
    "\n",
    "### RBF kernel SVR with hyperparameter tuning"
   ]
  },
  {
   "cell_type": "code",
   "execution_count": 345,
   "metadata": {},
   "outputs": [
    {
     "name": "stdout",
     "output_type": "stream",
     "text": [
      "R-squared on training data: 0.9635412068046666\n",
      "R-squared on testing data: 0.533285229527154\n",
      "RMSE on training data: 0.419014117669241\n",
      "RMSE on testing data: 1.5943786788474006\n"
     ]
    }
   ],
   "source": [
    "# Random Forest Regressor with 100 tree \n",
    "y_train_pred = estimator.predict(X_train)\n",
    "y_test_pred = estimator.predict(X_test)\n",
    "\n",
    "# Calculate R-squared on training and testing data\n",
    "r2_train = r2_score(y_train, y_train_pred)\n",
    "r2_test = r2_score(y_test, y_test_pred)\n",
    "\n",
    "# Calculate RMSE on training and testing data\n",
    "rmse_train = mean_squared_error(y_train, y_train_pred, squared=False)\n",
    "rmse_test = mean_squared_error(y_test, y_test_pred, squared=False)\n",
    "\n",
    "# Print results\n",
    "print(\"R-squared on training data: {}\".format(r2_train))\n",
    "print(\"R-squared on testing data: {}\".format(r2_test))\n",
    "print(\"RMSE on training data: {}\".format(rmse_train))\n",
    "print(\"RMSE on testing data: {}\".format(rmse_test))"
   ]
  },
  {
   "cell_type": "code",
   "execution_count": 352,
   "metadata": {},
   "outputs": [
    {
     "name": "stdout",
     "output_type": "stream",
     "text": [
      "Best hyperparameters: {'C': 1000, 'gamma': 0.01}\n",
      "R2 score on training data: 0.785094659580495\n",
      "R2 score on testing data: 0.5764708547341918\n",
      "RMSE on training data: 1.0002485869507802\n",
      "RMSE on testing data: 1.5188236679191662\n"
     ]
    }
   ],
   "source": [
    "# RBF kernel SVR with hyperparameter tuning\n",
    "#grid.fit(X_train, y_train)\n",
    "\n",
    "# Print the best hyperparameters and the corresponding R2 score\n",
    "print(\"Best hyperparameters:\", grid.best_params_)\n",
    "print(\"R2 score on training data:\", grid.best_score_)\n",
    "print(\"R2 score on testing data:\", grid.score(X_test, y_test))\n",
    "\n",
    "# Predict on the training, and testing sets\n",
    "y_train_pred = grid.predict(X_train)\n",
    "\n",
    "y_test_pred = grid.predict(X_test)\n",
    "\n",
    "# Calculate the RMSE on the training, validation, and testing sets\n",
    "from sklearn.metrics import mean_squared_error\n",
    "\n",
    "rmse_train = mean_squared_error(y_train, y_train_pred, squared=False)\n",
    "\n",
    "rmse_test = mean_squared_error(y_test, y_test_pred, squared=False)\n",
    "\n",
    "print(\"RMSE on training data:\", rmse_train)\n",
    "\n",
    "print(\"RMSE on testing data:\", rmse_test)"
   ]
  },
  {
   "cell_type": "markdown",
   "metadata": {},
   "source": [
    "It appears that RBF kernel SVR with hyperparameter tuning performs better"
   ]
  },
  {
   "cell_type": "markdown",
   "metadata": {},
   "source": [
    "##  The two best classifiers are Random Forest and feature selection. "
   ]
  },
  {
   "cell_type": "code",
   "execution_count": 364,
   "metadata": {},
   "outputs": [
    {
     "name": "stdout",
     "output_type": "stream",
     "text": [
      "Accuracy of training : 0.9202407825432656\n",
      "Accuracy of testing: 0.9147496617050067\n"
     ]
    }
   ],
   "source": [
    "from sklearn.ensemble import RandomForestClassifier\n",
    "\n",
    "rf = RandomForestClassifier(n_estimators=100, max_depth=5)\n",
    "rf.fit(X_train_pca2, y_train_cat)\n",
    "\n",
    "y_val_pred = rf.predict(X_val_pca2)\n",
    "predTrain = rf.predict(X_train_pca2)\n",
    "print(\"Accuracy of training :\",metrics.accuracy_score(y_train_cat, predTrain))\n",
    "\n",
    "predTest = rf.predict(X_test_pca2)\n",
    "\n",
    "print(\"Accuracy of testing:\",metrics.accuracy_score(y_test_cat, predTest))"
   ]
  },
  {
   "cell_type": "code",
   "execution_count": 367,
   "metadata": {},
   "outputs": [
    {
     "name": "stdout",
     "output_type": "stream",
     "text": [
      "              precision    recall  f1-score   support\n",
      "\n",
      "         0.0       0.93      0.94      0.93       467\n",
      "         1.0       0.89      0.87      0.88       272\n",
      "\n",
      "    accuracy                           0.91       739\n",
      "   macro avg       0.91      0.91      0.91       739\n",
      "weighted avg       0.91      0.91      0.91       739\n",
      "\n"
     ]
    }
   ],
   "source": [
    "print(metrics.classification_report(y_test_cat, predTest))"
   ]
  },
  {
   "cell_type": "code",
   "execution_count": 369,
   "metadata": {},
   "outputs": [
    {
     "name": "stdout",
     "output_type": "stream",
     "text": [
      "Accuracy of training : 0.9202407825432656\n",
      "Accuracy of testing: 0.9147496617050067\n"
     ]
    }
   ],
   "source": [
    "from sklearn.feature_selection import SelectKBest, mutual_info_classif\n",
    "\n",
    "selector = SelectKBest(mutual_info_classif, k=5)\n",
    "X_train_selected = selector.fit_transform(X_train_pca2, y_train_cat)\n",
    "X_val_selected = selector.transform(X_val_pca2)\n",
    "\n",
    "svm = SVC(kernel='rbf', C=1, gamma=0.1)\n",
    "svm.fit(X_train_selected, y_train_cat)\n",
    "\n",
    "y_val_pred = svm.predict(X_val_selected)\n",
    "\n",
    "predTrain = rf.predict(X_train_pca2)\n",
    "print(\"Accuracy of training :\",metrics.accuracy_score(y_train_cat, predTrain))\n",
    "\n",
    "predTest = rf.predict(X_test_pca2)\n",
    "\n",
    "print(\"Accuracy of testing:\",metrics.accuracy_score(y_test_cat, predTest))\n",
    "\n"
   ]
  },
  {
   "cell_type": "code",
   "execution_count": 379,
   "metadata": {},
   "outputs": [
    {
     "name": "stdout",
     "output_type": "stream",
     "text": [
      "              precision    recall  f1-score   support\n",
      "\n",
      "         0.0       0.93      0.94      0.93       467\n",
      "         1.0       0.89      0.87      0.88       272\n",
      "\n",
      "    accuracy                           0.91       739\n",
      "   macro avg       0.91      0.91      0.91       739\n",
      "weighted avg       0.91      0.91      0.91       739\n",
      "\n"
     ]
    }
   ],
   "source": [
    "print(metrics.classification_report(y_test_cat, predTest))"
   ]
  },
  {
   "cell_type": "markdown",
   "metadata": {},
   "source": [
    "Yes, this line with our analysis."
   ]
  },
  {
   "cell_type": "markdown",
   "metadata": {},
   "source": [
    "# Thank you\n",
    "Ilyas Ustun  \n",
    "twitter: \\_ilyas\\_ustun\\_"
   ]
  },
  {
   "cell_type": "code",
   "execution_count": null,
   "metadata": {},
   "outputs": [],
   "source": []
  }
 ],
 "metadata": {
  "kernelspec": {
   "display_name": "Python 3 (ipykernel)",
   "language": "python",
   "name": "python3"
  },
  "language_info": {
   "codemirror_mode": {
    "name": "ipython",
    "version": 3
   },
   "file_extension": ".py",
   "mimetype": "text/x-python",
   "name": "python",
   "nbconvert_exporter": "python",
   "pygments_lexer": "ipython3",
   "version": "3.9.13"
  },
  "toc": {
   "base_numbering": 1,
   "nav_menu": {},
   "number_sections": false,
   "sideBar": false,
   "skip_h1_title": false,
   "title_cell": "Table of Contents",
   "title_sidebar": "Contents",
   "toc_cell": false,
   "toc_position": {},
   "toc_section_display": false,
   "toc_window_display": false
  }
 },
 "nbformat": 4,
 "nbformat_minor": 4
}
